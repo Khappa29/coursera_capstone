{
 "cells": [
  {
   "cell_type": "markdown",
   "metadata": {},
   "source": [
    "# The Battle of Neighborhoods\n",
    "### Opening a restaurant in Lyon\n",
    "## Description of the problem"
   ]
  },
  {
   "cell_type": "markdown",
   "metadata": {},
   "source": [
    "Lyon is one of the biggest French cities. Located inside the country it has two rivers flowing inside: the Saône and the Rhône which joins to become the Rhône. In addition, this city has many hills which gives it a unique look.\n",
    "\n"
   ]
  },
  {
   "cell_type": "markdown",
   "metadata": {},
   "source": [
    "Inside the city center are many restaurant, cafés and bars, especially on the “presqu’île” (area between the two rivers before they merge). At night the city is crowded by people looking to have a good time. There are many different types of restaurant, the most typical being the “bouchon Lyonnais”.\n"
   ]
  },
  {
   "cell_type": "markdown",
   "metadata": {},
   "source": [
    "I’ve got a friend who would like to open a restaurant in the city. It would be a restaurant of American food since he is born in the US. He also believes that American food restaurant are not widespread in this area which would give his business a competitive advantage.\n",
    "However, he is unsure of where to install his business inside the city. \n"
   ]
  },
  {
   "cell_type": "markdown",
   "metadata": {},
   "source": [
    "The goal of this project is then to give him a set of different places where he could install his new restaurant as well as a set of different indicators helping him to understand the advantages of each area in order to adapt his offer. (attendance, number of restaurants installed, tourism activity, …)."
   ]
  },
  {
   "cell_type": "markdown",
   "metadata": {},
   "source": [
    "## Description of the data and how to use it"
   ]
  },
  {
   "cell_type": "markdown",
   "metadata": {},
   "source": [
    "I will use the Foursquare data in this project. It contains a certain number of restaurants located in Lyon. For each restaurant we have access to different type of information, namely the type of food, the price, their score, reviews etc…\n",
    "\n"
   ]
  },
  {
   "cell_type": "markdown",
   "metadata": {},
   "source": [
    "I will retrieve the data using the methods learned in this course. I will then try to identify different areas using clustering techniques. Having these areas, I will then try to determine specific characteristics for each using different indicators and charts."
   ]
  },
  {
   "cell_type": "markdown",
   "metadata": {},
   "source": [
    "Once those areas and characteristics are defined, I will make a selection to determine which areas are the best to install a new restaurant.\n",
    "This will be the result I will hand to my friend so he can investigate those areas by himself."
   ]
  },
  {
   "cell_type": "markdown",
   "metadata": {},
   "source": [
    "### Examples of data"
   ]
  },
  {
   "cell_type": "markdown",
   "metadata": {},
   "source": [
    "Let's have a look at the type af data I will use. For now it is only data from Foursquare."
   ]
  },
  {
   "cell_type": "code",
   "execution_count": 75,
   "metadata": {},
   "outputs": [],
   "source": [
    "import numpy as np # library to handle data in a vectorized manner\n",
    "import pandas as pd # library for data analsysis\n",
    "pd.set_option('display.max_columns', None)\n",
    "pd.set_option('display.max_rows', None)\n",
    "import json # library to handle JSON files\n",
    "import requests # library to handle requests\n",
    "from pandas.io.json import json_normalize # tranform JSON file into a pandas dataframe\n",
    "#!conda install -c conda-forge folium=0.5.0 --yes # uncomment this line if you haven't completed the Foursquare API lab\n",
    "import folium # map rendering library"
   ]
  },
  {
   "cell_type": "code",
   "execution_count": 52,
   "metadata": {},
   "outputs": [],
   "source": [
    "CLIENT_ID = 'SJ5ILVLRNBXCWC30C1WKSNCLH2JQVDW451GEMOJ4S4Z3NWLI' # your Foursquare ID\n",
    "CLIENT_SECRET = 'YFGB1YKWXORVA3TUOU3O1RN5TRMZDVHD5L54BMXHQMKYHE1E' # your Foursquare Secret\n",
    "VERSION = '20200301'\n",
    "CITY = 'Lyon'\n",
    "QUERY = 'restaurant'\n",
    "LIMIT = '90'\n",
    "\n",
    "url = 'https://api.foursquare.com/v2/venues/explore?&client_id={}&client_secret={}&v={}&near={}&query={}&limit={}'.format(CLIENT_ID, CLIENT_SECRET, VERSION,CITY,QUERY,LIMIT)"
   ]
  },
  {
   "cell_type": "code",
   "execution_count": 53,
   "metadata": {},
   "outputs": [],
   "source": [
    "results = requests.get(url).json()"
   ]
  },
  {
   "cell_type": "code",
   "execution_count": 54,
   "metadata": {},
   "outputs": [],
   "source": [
    "# function that extracts the category of the venue\n",
    "def get_category_type(row):\n",
    "    try:\n",
    "        categories_list = row['categories']\n",
    "    except:\n",
    "        categories_list = row['venue.categories']     \n",
    "    if len(categories_list) == 0:\n",
    "        return None\n",
    "    else:\n",
    "        return categories_list[0]['name']"
   ]
  },
  {
   "cell_type": "code",
   "execution_count": 57,
   "metadata": {},
   "outputs": [
    {
     "data": {
      "text/html": [
       "<div>\n",
       "<style scoped>\n",
       "    .dataframe tbody tr th:only-of-type {\n",
       "        vertical-align: middle;\n",
       "    }\n",
       "\n",
       "    .dataframe tbody tr th {\n",
       "        vertical-align: top;\n",
       "    }\n",
       "\n",
       "    .dataframe thead th {\n",
       "        text-align: right;\n",
       "    }\n",
       "</style>\n",
       "<table border=\"1\" class=\"dataframe\">\n",
       "  <thead>\n",
       "    <tr style=\"text-align: right;\">\n",
       "      <th></th>\n",
       "      <th>name</th>\n",
       "      <th>categories</th>\n",
       "      <th>lat</th>\n",
       "      <th>lng</th>\n",
       "    </tr>\n",
       "  </thead>\n",
       "  <tbody>\n",
       "    <tr>\n",
       "      <td>0</td>\n",
       "      <td>Le Musée</td>\n",
       "      <td>Lyonese Bouchon</td>\n",
       "      <td>45.764704</td>\n",
       "      <td>4.834464</td>\n",
       "    </tr>\n",
       "    <tr>\n",
       "      <td>1</td>\n",
       "      <td>Le Petit Carron</td>\n",
       "      <td>Lyonese Bouchon</td>\n",
       "      <td>45.752880</td>\n",
       "      <td>4.852723</td>\n",
       "    </tr>\n",
       "    <tr>\n",
       "      <td>2</td>\n",
       "      <td>Puzzle café</td>\n",
       "      <td>Café</td>\n",
       "      <td>45.764206</td>\n",
       "      <td>4.833891</td>\n",
       "    </tr>\n",
       "    <tr>\n",
       "      <td>3</td>\n",
       "      <td>Le Tire Bouchon</td>\n",
       "      <td>Lyonese Bouchon</td>\n",
       "      <td>45.762715</td>\n",
       "      <td>4.827210</td>\n",
       "    </tr>\n",
       "    <tr>\n",
       "      <td>4</td>\n",
       "      <td>À Chacun sa Tasse</td>\n",
       "      <td>Café</td>\n",
       "      <td>45.769489</td>\n",
       "      <td>4.835852</td>\n",
       "    </tr>\n",
       "  </tbody>\n",
       "</table>\n",
       "</div>"
      ],
      "text/plain": [
       "                name       categories        lat       lng\n",
       "0           Le Musée  Lyonese Bouchon  45.764704  4.834464\n",
       "1    Le Petit Carron  Lyonese Bouchon  45.752880  4.852723\n",
       "2        Puzzle café             Café  45.764206  4.833891\n",
       "3    Le Tire Bouchon  Lyonese Bouchon  45.762715  4.827210\n",
       "4  À Chacun sa Tasse             Café  45.769489  4.835852"
      ]
     },
     "execution_count": 57,
     "metadata": {},
     "output_type": "execute_result"
    }
   ],
   "source": [
    "venues = results['response']['groups'][0]['items']\n",
    "\n",
    "nearby_venues = json_normalize(venues) # flatten JSON\n",
    "\n",
    "# filter columns\n",
    "filtered_columns = ['venue.name', 'venue.categories', 'venue.location.lat', 'venue.location.lng']\n",
    "nearby_venues =nearby_venues.loc[:, filtered_columns]\n",
    "\n",
    "# filter the category for each row\n",
    "\n",
    "nearby_venues['venue.categories'] = nearby_venues.apply(get_category_type, axis=1)\n",
    "\n",
    "# clean columns\n",
    "nearby_venues.columns = [col.split(\".\")[-1] for col in nearby_venues.columns]\n",
    "\n",
    "nearby_venues.head()"
   ]
  },
  {
   "cell_type": "markdown",
   "metadata": {},
   "source": [
    "We now have access to 90 locations of restaurants in Lyon with their categories. It is enough to give us a first good look. But we can do more"
   ]
  },
  {
   "cell_type": "markdown",
   "metadata": {},
   "source": [
    "The city of Lyon has made accessible a data base for tourism activities on its website: https://data.grandlyon.com/"
   ]
  },
  {
   "cell_type": "markdown",
   "metadata": {},
   "source": [
    "I will use one of the databases available to get more information on the restaurants and possibly to merge this information with the foursquare data."
   ]
  },
  {
   "cell_type": "code",
   "execution_count": 80,
   "metadata": {},
   "outputs": [],
   "source": [
    "url = 'https://download.data.grandlyon.com/ws/rdata/sit_sitra.sittourisme/all.json?maxfeatures=5236&start=1'\n",
    "results = requests.get(url).json()"
   ]
  },
  {
   "cell_type": "code",
   "execution_count": 86,
   "metadata": {},
   "outputs": [
    {
     "data": {
      "text/plain": [
       "array(['Restaurant traditionnel', 'Restaurant gastronomique',\n",
       "       'Restaurant de spécialités étrangères',\n",
       "       'Restaurant traditionnel;Restaurant bistronomique',\n",
       "       'Restaurant bistronomique', 'Brasserie;Restaurant traditionnel',\n",
       "       'Restauration rapide',\n",
       "       'Restaurant traditionnel;Restaurant gastronomique', 'Brasserie',\n",
       "       'Brasserie;Restaurant traditionnel;Restaurant spectacle;Restaurant dansant',\n",
       "       'Restaurant traditionnel;Grill / Rôtisserie',\n",
       "       'Restaurant traditionnel;Bouchon',\n",
       "       'Restaurant gastronomique;Restaurant bistronomique', 'Bouchon',\n",
       "       'Grill', 'Pizzeria',\n",
       "       'Brasserie;Restaurant de spécialités étrangères',\n",
       "       'Brasserie;Pizzeria;Restauration rapide',\n",
       "       'Restauration rapide;Restaurant de spécialités étrangères',\n",
       "       'Grill / Rôtisserie', \"Restaurant d'application\",\n",
       "       'Restaurant traditionnel;Grill',\n",
       "       'Grill / Rôtisserie;Restaurant de spécialités étrangères',\n",
       "       'Restaurant spectacle', 'Restaurant traditionnel;Pizzeria',\n",
       "       'Pizzeria;Restaurant de spécialités étrangères',\n",
       "       'Restaurant dansant', 'Cafétéria;Restaurant traditionnel',\n",
       "       'Pizzeria;Restaurant de spécialités étrangères;Restaurant dansant',\n",
       "       'Pizzeria;Restauration rapide', 'Cafétéria',\n",
       "       'Restaurant de spécialités étrangères;Restaurant bistronomique',\n",
       "       'Brasserie;Restaurant traditionnel;Restaurant de spécialités étrangères',\n",
       "       'Pizzeria;Restaurant traditionnel',\n",
       "       'Restaurant traditionnel;Restaurant dansant',\n",
       "       'Restaurant de spécialités étrangères;Restaurant spectacle;Restaurant dansant',\n",
       "       'Crêperie;Restaurant traditionnel', 'Crêperie',\n",
       "       \"Restaurant d'application;Restaurant gastronomique\",\n",
       "       'Restaurant traditionnel;Restauration rapide',\n",
       "       'Restaurant traditionnel;Restaurant spectacle',\n",
       "       'Brasserie;Restaurant spectacle', 'Brasserie;Restauration rapide',\n",
       "       'Restaurant traditionnel;Restaurant de spécialités étrangères',\n",
       "       'Restauration rapide;Restaurant bistronomique',\n",
       "       'Restaurant spectacle;Restaurant dansant',\n",
       "       'Restaurant de spécialités étrangères;Restaurant spectacle',\n",
       "       'Brasserie;Pizzeria', 'Brasserie;Restaurant traditionnel;Pizzeria',\n",
       "       'Restaurant traditionnel;Restaurant spectacle;Restaurant dansant'],\n",
       "      dtype=object)"
      ]
     },
     "execution_count": 86,
     "metadata": {},
     "output_type": "execute_result"
    }
   ],
   "source": [
    "resto_lyon = json_normalize(results['values'])\n",
    "resto_lyon = resto_lyon[['type','nom','adresse','type_detail']]\n",
    "resto_lyon['type'].unique()\n",
    "resto_lyon = resto_lyon[resto_lyon['type'] == 'RESTAURATION']\n",
    "resto_lyon = resto_lyon[resto_lyon['adresse'] != '']\n",
    "resto_lyon = resto_lyon[resto_lyon['type_detail'] != '']\n",
    "resto_lyon['type_detail'].unique()"
   ]
  },
  {
   "cell_type": "code",
   "execution_count": 89,
   "metadata": {},
   "outputs": [
    {
     "data": {
      "text/html": [
       "<div>\n",
       "<style scoped>\n",
       "    .dataframe tbody tr th:only-of-type {\n",
       "        vertical-align: middle;\n",
       "    }\n",
       "\n",
       "    .dataframe tbody tr th {\n",
       "        vertical-align: top;\n",
       "    }\n",
       "\n",
       "    .dataframe thead th {\n",
       "        text-align: right;\n",
       "    }\n",
       "</style>\n",
       "<table border=\"1\" class=\"dataframe\">\n",
       "  <thead>\n",
       "    <tr style=\"text-align: right;\">\n",
       "      <th></th>\n",
       "      <th>type</th>\n",
       "      <th>nom</th>\n",
       "      <th>adresse</th>\n",
       "      <th>type_detail</th>\n",
       "    </tr>\n",
       "  </thead>\n",
       "  <tbody>\n",
       "    <tr>\n",
       "      <td>4</td>\n",
       "      <td>RESTAURATION</td>\n",
       "      <td>Les Petites Cantines Vaise</td>\n",
       "      <td>37 rue Saint-Pierre de Vaise</td>\n",
       "      <td>Restaurant traditionnel</td>\n",
       "    </tr>\n",
       "    <tr>\n",
       "      <td>13</td>\n",
       "      <td>RESTAURATION</td>\n",
       "      <td>Le Jardin du Pré fleuri</td>\n",
       "      <td>240 rue Francis de Pressensé</td>\n",
       "      <td>Restaurant traditionnel</td>\n",
       "    </tr>\n",
       "    <tr>\n",
       "      <td>22</td>\n",
       "      <td>RESTAURATION</td>\n",
       "      <td>Nosch Cantine et Comptoir</td>\n",
       "      <td>24 rue Palais Grillet</td>\n",
       "      <td>Restaurant traditionnel</td>\n",
       "    </tr>\n",
       "    <tr>\n",
       "      <td>24</td>\n",
       "      <td>RESTAURATION</td>\n",
       "      <td>La Mutinerie</td>\n",
       "      <td>123 rue bugeaud</td>\n",
       "      <td>Restaurant gastronomique</td>\n",
       "    </tr>\n",
       "    <tr>\n",
       "      <td>25</td>\n",
       "      <td>RESTAURATION</td>\n",
       "      <td>Le Crusoé</td>\n",
       "      <td>Quai Illhaeusern</td>\n",
       "      <td>Restaurant traditionnel</td>\n",
       "    </tr>\n",
       "  </tbody>\n",
       "</table>\n",
       "</div>"
      ],
      "text/plain": [
       "            type                         nom                       adresse  \\\n",
       "4   RESTAURATION  Les Petites Cantines Vaise  37 rue Saint-Pierre de Vaise   \n",
       "13  RESTAURATION     Le Jardin du Pré fleuri  240 rue Francis de Pressensé   \n",
       "22  RESTAURATION   Nosch Cantine et Comptoir         24 rue Palais Grillet   \n",
       "24  RESTAURATION                La Mutinerie               123 rue bugeaud   \n",
       "25  RESTAURATION                   Le Crusoé              Quai Illhaeusern   \n",
       "\n",
       "                 type_detail  \n",
       "4    Restaurant traditionnel  \n",
       "13   Restaurant traditionnel  \n",
       "22   Restaurant traditionnel  \n",
       "24  Restaurant gastronomique  \n",
       "25   Restaurant traditionnel  "
      ]
     },
     "execution_count": 89,
     "metadata": {},
     "output_type": "execute_result"
    }
   ],
   "source": [
    "resto_lyon.head()"
   ]
  },
  {
   "cell_type": "code",
   "execution_count": 90,
   "metadata": {},
   "outputs": [
    {
     "data": {
      "text/plain": [
       "(1087, 4)"
      ]
     },
     "execution_count": 90,
     "metadata": {},
     "output_type": "execute_result"
    }
   ],
   "source": [
    "resto_lyon.shape"
   ]
  },
  {
   "cell_type": "markdown",
   "metadata": {},
   "source": [
    "This database gives us way more restaurants than Foursquare does but the type of information regarding the type of restaurant is different. This database does not give the cuisine the same way than Foursquare does. We will not be able to cluster them with the Foursquare data. But we will be able to cluster them independetly to get other type of information on the areas. Also this data need to be put into proper form, as of right now it cannot be used."
   ]
  },
  {
   "cell_type": "code",
   "execution_count": null,
   "metadata": {},
   "outputs": [],
   "source": []
  }
 ],
 "metadata": {
  "kernelspec": {
   "display_name": "Python 3",
   "language": "python",
   "name": "python3"
  },
  "language_info": {
   "codemirror_mode": {
    "name": "ipython",
    "version": 3
   },
   "file_extension": ".py",
   "mimetype": "text/x-python",
   "name": "python",
   "nbconvert_exporter": "python",
   "pygments_lexer": "ipython3",
   "version": "3.7.4"
  }
 },
 "nbformat": 4,
 "nbformat_minor": 4
}
