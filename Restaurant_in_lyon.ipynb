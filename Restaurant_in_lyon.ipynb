{
 "cells": [
  {
   "cell_type": "markdown",
   "metadata": {},
   "source": [
    "# The Battle of Neighborhoods\n",
    "### Opening a restaurant in Lyon\n",
    "## Description of the problem"
   ]
  },
  {
   "cell_type": "markdown",
   "metadata": {},
   "source": [
    "Lyon is one of the biggest French cities. Located inside the country it has two rivers flowing inside: the Saône and the Rhône which joins to become the Rhône. In addition, this city has many hills which gives it a unique look.\n",
    "\n"
   ]
  },
  {
   "cell_type": "markdown",
   "metadata": {},
   "source": [
    "Inside the city center are many restaurant, cafés and bars, especially on the “presqu’île” (area between the two rivers before they merge). At night the city is crowded by people looking to have a good time. There are many different types of restaurant, the most typical being the “bouchon Lyonnais”.\n"
   ]
  },
  {
   "cell_type": "markdown",
   "metadata": {},
   "source": [
    "I’ve got a friend who would like to open a restaurant in the city. It would be a restaurant of American food since he is born in the US. He also believes that American food restaurant are not widespread in this area which would give his business a competitive advantage.\n",
    "However, he is unsure of where to install his business inside the city. \n"
   ]
  },
  {
   "cell_type": "markdown",
   "metadata": {},
   "source": [
    "The goal of this project is then to give him a set of different places where he could install his new restaurant as well as a set of different indicators helping him to understand the advantages of each area in order to adapt his offer. (attendance, number of restaurants installed, tourism activity, …)."
   ]
  },
  {
   "cell_type": "markdown",
   "metadata": {},
   "source": [
    "## Description of the data and how to use it"
   ]
  },
  {
   "cell_type": "markdown",
   "metadata": {},
   "source": [
    "I will use the Foursquare data in this project. It contains a certain number of restaurants located in Lyon. For each restaurant we have access to different type of information, namely the type of food, the price, their score, reviews etc…\n",
    "\n"
   ]
  },
  {
   "cell_type": "markdown",
   "metadata": {},
   "source": [
    "I will retrieve the data using the methods learned in this course. I will then try to identify different areas using clustering techniques. Having these areas, I will then try to determine specific characteristics for each using different indicators and charts."
   ]
  },
  {
   "cell_type": "markdown",
   "metadata": {},
   "source": [
    "Once those areas and characteristics are defined, I will make a selection to determine which areas are the best to install a new restaurant.\n",
    "This will be the result I will hand to my friend so he can investigate those areas by himself."
   ]
  },
  {
   "cell_type": "code",
   "execution_count": null,
   "metadata": {},
   "outputs": [],
   "source": []
  }
 ],
 "metadata": {
  "kernelspec": {
   "display_name": "Python 3",
   "language": "python",
   "name": "python3"
  },
  "language_info": {
   "codemirror_mode": {
    "name": "ipython",
    "version": 3
   },
   "file_extension": ".py",
   "mimetype": "text/x-python",
   "name": "python",
   "nbconvert_exporter": "python",
   "pygments_lexer": "ipython3",
   "version": "3.7.4"
  }
 },
 "nbformat": 4,
 "nbformat_minor": 4
}
